{
 "cells": [
  {
   "cell_type": "markdown",
   "id": "7dd71c27-c8dd-4843-a2df-6fdb8c322a04",
   "metadata": {},
   "source": [
    "# ID mapping using mygene module in Python\n",
    "\n",
    "Source: https://docs.mygene.info/projects/mygene-py/en/latest/\n",
    "\n",
    "ID mapping is a very common, often not fun, task for every bioinformatician. Supposedly you have a list of gene symbols or reporter ids from an upstream analysis, and then your next analysis requires to use gene ids (e.g. Entrez gene ids or Ensembl gene ids). So you want to convert that list of gene symbols or reporter ids to corresponding gene ids.\n",
    "\n",
    "Some relatable images...\n",
    "<html>\n",
    "    <img alt=\"gene excel meme\" src=\"img/gene_excel_meme.jpeg\" width=300>\n",
    "    <img src=\"img/genes-excel-theverge.png\", alt=\"Microsoft Excel renames genes, article from The Verge\" width=350 style=\"border: 1px solid black\">\n",
    "</html>\n",
    "\n",
    "Here we want to show you how to use **mygene** module in Python to do ID mapping quickly and easily. **mygene** is essentially a convenient Python module to access [MyGene.info](http://mygene.info) gene query web services.\n",
    "\n",
    "Fun fact: **MyGene** was developed here in San Diego from the labs of [Dr. Andrew Su](https://sulab.org) and [Dr. Chunlei Wu](https://wulab.io) at The Scripps Research Institute."
   ]
  },
  {
   "cell_type": "markdown",
   "id": "59df4d9c",
   "metadata": {},
   "source": [
    "Import it and instantiate MyGeneInfo class:"
   ]
  },
  {
   "cell_type": "code",
   "execution_count": 1,
   "id": "c0bcdbc6",
   "metadata": {
    "collapsed": false,
    "execution": {
     "iopub.execute_input": "2021-09-11T23:14:40.276817Z",
     "iopub.status.busy": "2021-09-11T23:14:40.276587Z",
     "iopub.status.idle": "2021-09-11T23:14:44.216826Z",
     "shell.execute_reply": "2021-09-11T23:14:44.216377Z",
     "shell.execute_reply.started": "2021-09-11T23:14:40.276759Z"
    },
    "jupyter": {
     "outputs_hidden": false
    }
   },
   "outputs": [],
   "source": [
    "import mygene\n",
    "\n",
    "mg = mygene.MyGeneInfo()"
   ]
  },
  {
   "cell_type": "markdown",
   "id": "a0333e35",
   "metadata": {},
   "source": [
    "### Mapping gene symbols to Entrez gene ids"
   ]
  },
  {
   "cell_type": "markdown",
   "id": "cdcb73b7",
   "metadata": {},
   "source": [
    "Suppose **xli** is a list of gene symbols you want to convert to entrez gene ids:"
   ]
  },
  {
   "cell_type": "code",
   "execution_count": 6,
   "id": "9c7b13c3",
   "metadata": {
    "collapsed": false,
    "execution": {
     "iopub.execute_input": "2021-09-11T23:16:03.049837Z",
     "iopub.status.busy": "2021-09-11T23:16:03.049676Z",
     "iopub.status.idle": "2021-09-11T23:16:03.052132Z",
     "shell.execute_reply": "2021-09-11T23:16:03.051800Z",
     "shell.execute_reply.started": "2021-09-11T23:16:03.049822Z"
    },
    "jupyter": {
     "outputs_hidden": false
    },
    "tags": []
   },
   "outputs": [],
   "source": [
    "xli = [\n",
    "    \"CCDC83\",\n",
    "    \"MAST3\",\n",
    "    \"FLOT1\",\n",
    "    \"RPL11\",\n",
    "    \"ZDHHC20\",\n",
    "    \"LUC7L3\",\n",
    "    \"SNORD49A\",\n",
    "    \"CTSH\",\n",
    "    \"ACOT8\",\n",
    "]"
   ]
  },
  {
   "cell_type": "markdown",
   "id": "7b5e1e60",
   "metadata": {},
   "source": [
    "  you can then call **querymany** method, telling it your input is \"symbol\", and you want \"entrezgene\" (Entrez gene ids) back."
   ]
  },
  {
   "cell_type": "code",
   "execution_count": 7,
   "id": "4b0417b5",
   "metadata": {
    "collapsed": false,
    "execution": {
     "iopub.execute_input": "2021-09-11T23:16:05.684847Z",
     "iopub.status.busy": "2021-09-11T23:16:05.684641Z",
     "iopub.status.idle": "2021-09-11T23:16:06.782600Z",
     "shell.execute_reply": "2021-09-11T23:16:06.782315Z",
     "shell.execute_reply.started": "2021-09-11T23:16:05.684822Z"
    },
    "jupyter": {
     "outputs_hidden": false
    },
    "tags": []
   },
   "outputs": [
    {
     "name": "stdout",
     "output_type": "stream",
     "text": [
      "querying 1-9...done.\n",
      "Finished.\n"
     ]
    }
   ],
   "source": [
    "out = mg.querymany(xli, scopes=\"symbol\", fields=\"entrezgene\", species=\"human\")"
   ]
  },
  {
   "cell_type": "markdown",
   "id": "ee70a90a",
   "metadata": {},
   "source": [
    "Returned \"**out**\" looks like this:"
   ]
  },
  {
   "cell_type": "code",
   "execution_count": 8,
   "id": "d5e23853",
   "metadata": {
    "collapsed": false,
    "execution": {
     "iopub.execute_input": "2021-09-11T23:16:09.316479Z",
     "iopub.status.busy": "2021-09-11T23:16:09.316271Z",
     "iopub.status.idle": "2021-09-11T23:16:09.319942Z",
     "shell.execute_reply": "2021-09-11T23:16:09.319667Z",
     "shell.execute_reply.started": "2021-09-11T23:16:09.316454Z"
    },
    "jupyter": {
     "outputs_hidden": false
    },
    "tags": []
   },
   "outputs": [
    {
     "data": {
      "text/plain": [
       "[{'query': 'CCDC83',\n",
       "  '_id': '220047',\n",
       "  '_score': 89.82859,\n",
       "  'entrezgene': '220047'},\n",
       " {'query': 'MAST3', '_id': '23031', '_score': 90.03995, 'entrezgene': '23031'},\n",
       " {'query': 'FLOT1', '_id': '10211', '_score': 92.03065, 'entrezgene': '10211'},\n",
       " {'query': 'RPL11', '_id': '6135', '_score': 83.39962, 'entrezgene': '6135'},\n",
       " {'query': 'ZDHHC20',\n",
       "  '_id': '253832',\n",
       "  '_score': 90.273384,\n",
       "  'entrezgene': '253832'},\n",
       " {'query': 'LUC7L3',\n",
       "  '_id': '51747',\n",
       "  '_score': 87.32994,\n",
       "  'entrezgene': '51747'},\n",
       " {'query': 'SNORD49A',\n",
       "  '_id': '26800',\n",
       "  '_score': 120.177704,\n",
       "  'entrezgene': '26800'},\n",
       " {'query': 'CTSH', '_id': '1512', '_score': 87.051315, 'entrezgene': '1512'},\n",
       " {'query': 'ACOT8',\n",
       "  '_id': '10005',\n",
       "  '_score': 88.530174,\n",
       "  'entrezgene': '10005'}]"
      ]
     },
     "execution_count": 8,
     "metadata": {},
     "output_type": "execute_result"
    }
   ],
   "source": [
    "out"
   ]
  },
  {
   "cell_type": "markdown",
   "id": "9f2270b4",
   "metadata": {},
   "source": [
    "The mapping result is returned as a list of dictionaries. Each dictionary contains the **fields** you asked to return, in this case, \"entrezgene\" field. Each dictionary also returns the matching query term, \"**query**\", and an internal id, \"**_id**\", which is the same as \"**entrezgene**\" most of time (will be an ensembl gene id if a gene is available from Ensembl only)."
   ]
  },
  {
   "cell_type": "markdown",
   "id": "a1663e1b-a74d-4228-b1d6-5b7f933ec9a2",
   "metadata": {},
   "source": [
    "From here we can easily parse **out** to create a mapping from gene symbol to entrez id. Done!"
   ]
  },
  {
   "cell_type": "code",
   "execution_count": 18,
   "id": "a3da6ab3-91a3-4b47-8270-0e1eee2653a1",
   "metadata": {
    "execution": {
     "iopub.execute_input": "2021-09-11T23:20:42.416971Z",
     "iopub.status.busy": "2021-09-11T23:20:42.416697Z",
     "iopub.status.idle": "2021-09-11T23:20:42.420442Z",
     "shell.execute_reply": "2021-09-11T23:20:42.420106Z",
     "shell.execute_reply.started": "2021-09-11T23:20:42.416953Z"
    },
    "tags": []
   },
   "outputs": [
    {
     "data": {
      "text/plain": [
       "{'CCDC83': '220047',\n",
       " 'MAST3': '23031',\n",
       " 'FLOT1': '10211',\n",
       " 'RPL11': '6135',\n",
       " 'ZDHHC20': '253832',\n",
       " 'LUC7L3': '51747',\n",
       " 'SNORD49A': '26800',\n",
       " 'CTSH': '1512',\n",
       " 'ACOT8': '10005'}"
      ]
     },
     "execution_count": 18,
     "metadata": {},
     "output_type": "execute_result"
    }
   ],
   "source": [
    "symbol_to_entrez = dict()\n",
    "for entry in out:\n",
    "    symbol_to_entrez[entry['query']] = entry['entrezgene']\n",
    "    \n",
    "symbol_to_entrez"
   ]
  },
  {
   "cell_type": "markdown",
   "id": "4a229445-d1a5-4f67-bb23-9de10bb88df4",
   "metadata": {},
   "source": [
    "# More examples"
   ]
  },
  {
   "cell_type": "markdown",
   "id": "e1295344",
   "metadata": {},
   "source": [
    "### Mapping gene symbols to Ensembl gene ids"
   ]
  },
  {
   "cell_type": "markdown",
   "id": "7dad1f61",
   "metadata": {},
   "source": [
    "Now if you want Ensembl gene ids back:"
   ]
  },
  {
   "cell_type": "code",
   "execution_count": 9,
   "id": "5ca9cc74",
   "metadata": {
    "collapsed": false,
    "execution": {
     "iopub.execute_input": "2021-09-11T23:16:12.006355Z",
     "iopub.status.busy": "2021-09-11T23:16:12.006241Z",
     "iopub.status.idle": "2021-09-11T23:16:13.113062Z",
     "shell.execute_reply": "2021-09-11T23:16:13.112795Z",
     "shell.execute_reply.started": "2021-09-11T23:16:12.006341Z"
    },
    "jupyter": {
     "outputs_hidden": false
    },
    "tags": []
   },
   "outputs": [
    {
     "name": "stdout",
     "output_type": "stream",
     "text": [
      "querying 1-9...done.\n",
      "Finished.\n"
     ]
    },
    {
     "data": {
      "text/plain": [
       "[{'query': 'CCDC83',\n",
       "  '_id': '220047',\n",
       "  '_score': 89.83598,\n",
       "  'ensembl': {'gene': 'ENSG00000150676'}},\n",
       " {'query': 'MAST3',\n",
       "  '_id': '23031',\n",
       "  '_score': 90.082924,\n",
       "  'ensembl': {'gene': 'ENSG00000099308'}},\n",
       " {'query': 'FLOT1',\n",
       "  '_id': '10211',\n",
       "  '_score': 92.026115,\n",
       "  'ensembl': [{'gene': 'ENSG00000232280'},\n",
       "   {'gene': 'ENSG00000206379'},\n",
       "   {'gene': 'ENSG00000236271'},\n",
       "   {'gene': 'ENSG00000206480'},\n",
       "   {'gene': 'ENSG00000230143'},\n",
       "   {'gene': 'ENSG00000137312'},\n",
       "   {'gene': 'ENSG00000224740'},\n",
       "   {'gene': 'ENSG00000223654'}]},\n",
       " {'query': 'RPL11',\n",
       "  '_id': '6135',\n",
       "  '_score': 83.380875,\n",
       "  'ensembl': {'gene': 'ENSG00000142676'}},\n",
       " {'query': 'ZDHHC20',\n",
       "  '_id': '253832',\n",
       "  '_score': 90.28078,\n",
       "  'ensembl': {'gene': 'ENSG00000180776'}},\n",
       " {'query': 'LUC7L3',\n",
       "  '_id': '51747',\n",
       "  '_score': 87.36286,\n",
       "  'ensembl': {'gene': 'ENSG00000108848'}},\n",
       " {'query': 'SNORD49A',\n",
       "  '_id': '26800',\n",
       "  '_score': 120.1851,\n",
       "  'ensembl': {'gene': 'ENSG00000277370'}},\n",
       " {'query': 'CTSH',\n",
       "  '_id': '1512',\n",
       "  '_score': 87.050995,\n",
       "  'ensembl': {'gene': 'ENSG00000103811'}},\n",
       " {'query': 'ACOT8',\n",
       "  '_id': '10005',\n",
       "  '_score': 88.494934,\n",
       "  'ensembl': {'gene': 'ENSG00000101473'}}]"
      ]
     },
     "execution_count": 9,
     "metadata": {},
     "output_type": "execute_result"
    }
   ],
   "source": [
    "mg.querymany(xli, scopes=\"symbol\", fields=\"ensembl.gene\", species=\"human\")"
   ]
  },
  {
   "cell_type": "markdown",
   "id": "d543bf01",
   "metadata": {},
   "source": [
    "### When an input id has no matching gene"
   ]
  },
  {
   "cell_type": "markdown",
   "id": "c96eda3d",
   "metadata": {},
   "source": [
    "In case that an input id has no matching gene, you will be notified from the output.The returned dictionary for this query term contains \"notfound\" value as *True*."
   ]
  },
  {
   "cell_type": "code",
   "execution_count": 12,
   "id": "28d64327",
   "metadata": {
    "collapsed": false,
    "execution": {
     "iopub.execute_input": "2021-09-11T23:16:30.414900Z",
     "iopub.status.busy": "2021-09-11T23:16:30.414669Z",
     "iopub.status.idle": "2021-09-11T23:16:30.417248Z",
     "shell.execute_reply": "2021-09-11T23:16:30.416868Z",
     "shell.execute_reply.started": "2021-09-11T23:16:30.414873Z"
    },
    "jupyter": {
     "outputs_hidden": false
    },
    "tags": []
   },
   "outputs": [],
   "source": [
    "xli = [\"CCDC83\", \"MAST3\", \"FLOT1\", \"RPL11\", \"Gm10494\"]"
   ]
  },
  {
   "cell_type": "code",
   "execution_count": 13,
   "id": "654d285d",
   "metadata": {
    "collapsed": false,
    "execution": {
     "iopub.execute_input": "2021-09-11T23:16:31.827095Z",
     "iopub.status.busy": "2021-09-11T23:16:31.826713Z",
     "iopub.status.idle": "2021-09-11T23:16:32.959449Z",
     "shell.execute_reply": "2021-09-11T23:16:32.959082Z",
     "shell.execute_reply.started": "2021-09-11T23:16:31.827075Z"
    },
    "jupyter": {
     "outputs_hidden": false
    },
    "tags": []
   },
   "outputs": [
    {
     "name": "stdout",
     "output_type": "stream",
     "text": [
      "querying 1-5...done.\n",
      "Finished.\n",
      "1 input query terms found no hit:\n",
      "\t['Gm10494']\n",
      "Pass \"returnall=True\" to return complete lists of duplicate or missing query terms.\n"
     ]
    },
    {
     "data": {
      "text/plain": [
       "[{'query': 'CCDC83',\n",
       "  '_id': '220047',\n",
       "  '_score': 89.82859,\n",
       "  'entrezgene': '220047'},\n",
       " {'query': 'MAST3', '_id': '23031', '_score': 90.03995, 'entrezgene': '23031'},\n",
       " {'query': 'FLOT1', '_id': '10211', '_score': 92.03065, 'entrezgene': '10211'},\n",
       " {'query': 'RPL11', '_id': '6135', '_score': 83.39962, 'entrezgene': '6135'},\n",
       " {'query': 'Gm10494', 'notfound': True}]"
      ]
     },
     "execution_count": 13,
     "metadata": {},
     "output_type": "execute_result"
    }
   ],
   "source": [
    "mg.querymany(xli, scopes=\"symbol\", fields=\"entrezgene\", species=\"human\")"
   ]
  },
  {
   "cell_type": "markdown",
   "id": "f9556737",
   "metadata": {},
   "source": [
    "### When input ids are not just symbols"
   ]
  },
  {
   "cell_type": "code",
   "execution_count": 14,
   "id": "75a89d31",
   "metadata": {
    "collapsed": false,
    "execution": {
     "iopub.execute_input": "2021-09-11T23:16:48.026284Z",
     "iopub.status.busy": "2021-09-11T23:16:48.026150Z",
     "iopub.status.idle": "2021-09-11T23:16:48.028744Z",
     "shell.execute_reply": "2021-09-11T23:16:48.028368Z",
     "shell.execute_reply.started": "2021-09-11T23:16:48.026270Z"
    },
    "jupyter": {
     "outputs_hidden": false
    }
   },
   "outputs": [],
   "source": [
    "xli = [\n",
    "    \"DDX26B\",\n",
    "    \"CCDC83\",\n",
    "    \"MAST3\",\n",
    "    \"FLOT1\",\n",
    "    \"RPL11\",\n",
    "    \"Gm10494\",\n",
    "    \"1007_s_at\",\n",
    "    \"AK125780\",\n",
    "]"
   ]
  },
  {
   "cell_type": "markdown",
   "id": "18d1b84b",
   "metadata": {},
   "source": [
    "Above id list contains symbols, reporters and accession numbers, and supposedly we want to get back both Entrez gene ids and uniprot ids. Parameters **scopes**, **fields**, **species** are all flexible enough to support multiple values, either a list or a comma-separated string:"
   ]
  },
  {
   "cell_type": "code",
   "execution_count": 15,
   "id": "b9505fa8",
   "metadata": {
    "collapsed": false,
    "execution": {
     "iopub.execute_input": "2021-09-11T23:16:51.074169Z",
     "iopub.status.busy": "2021-09-11T23:16:51.074041Z",
     "iopub.status.idle": "2021-09-11T23:16:52.204639Z",
     "shell.execute_reply": "2021-09-11T23:16:52.204221Z",
     "shell.execute_reply.started": "2021-09-11T23:16:51.074155Z"
    },
    "jupyter": {
     "outputs_hidden": false
    }
   },
   "outputs": [
    {
     "name": "stdout",
     "output_type": "stream",
     "text": [
      "querying 1-8...done.\n",
      "Finished.\n",
      "1 input query terms found dup hits:\n",
      "\t[('1007_s_at', 2)]\n",
      "2 input query terms found no hit:\n",
      "\t['DDX26B', 'Gm10494']\n",
      "Pass \"returnall=True\" to return complete lists of duplicate or missing query terms.\n"
     ]
    },
    {
     "data": {
      "text/plain": [
       "[{'query': 'DDX26B', 'notfound': True},\n",
       " {'query': 'CCDC83',\n",
       "  '_id': '220047',\n",
       "  '_score': 89.82859,\n",
       "  'entrezgene': '220047',\n",
       "  'uniprot': {'Swiss-Prot': 'Q8IWF9', 'TrEMBL': 'H0YDV3'}},\n",
       " {'query': 'MAST3',\n",
       "  '_id': '23031',\n",
       "  '_score': 90.03995,\n",
       "  'entrezgene': '23031',\n",
       "  'uniprot': {'Swiss-Prot': 'O60307', 'TrEMBL': 'V9GYV0'}},\n",
       " {'query': 'FLOT1',\n",
       "  '_id': '10211',\n",
       "  '_score': 92.03065,\n",
       "  'entrezgene': '10211',\n",
       "  'uniprot': {'Swiss-Prot': 'O75955',\n",
       "   'TrEMBL': ['A2ABJ5',\n",
       "    'Q5ST80',\n",
       "    'A2AB09',\n",
       "    'A2AB12',\n",
       "    'A2AB13',\n",
       "    'A2AB10',\n",
       "    'A2AB11']}},\n",
       " {'query': 'RPL11',\n",
       "  '_id': '6135',\n",
       "  '_score': 83.39962,\n",
       "  'entrezgene': '6135',\n",
       "  'uniprot': {'Swiss-Prot': 'P62913',\n",
       "   'TrEMBL': ['Q5VVC8', 'Q5VVD0', 'A0A2R8Y447']}},\n",
       " {'query': 'Gm10494', 'notfound': True},\n",
       " {'query': '1007_s_at',\n",
       "  '_id': '100616237',\n",
       "  '_score': 14.593872,\n",
       "  'entrezgene': '100616237'},\n",
       " {'query': '1007_s_at',\n",
       "  '_id': '780',\n",
       "  '_score': 13.384332,\n",
       "  'entrezgene': '780',\n",
       "  'uniprot': {'Swiss-Prot': 'Q08345',\n",
       "   'TrEMBL': ['A0A024RCL1',\n",
       "    'A0A024RCJ0',\n",
       "    'A0A024RCQ1',\n",
       "    'A0A0A0MSX3',\n",
       "    'Q96T61',\n",
       "    'Q96T62',\n",
       "    'A2ABM8',\n",
       "    'A0A0G2JJA0',\n",
       "    'D6RAJ3',\n",
       "    'A2ABL0',\n",
       "    'A0A0G2JHK4',\n",
       "    'D6RB35',\n",
       "    'A0A0G2JIA2',\n",
       "    'A0A0G2JI85',\n",
       "    'E7ERN0',\n",
       "    'A2ABL2',\n",
       "    'E7EX99',\n",
       "    'A0A140T972',\n",
       "    'E7ETI3',\n",
       "    'E7ESR9',\n",
       "    'H0Y717',\n",
       "    'E7EPN2',\n",
       "    'E7EVT1',\n",
       "    'E7EVW6',\n",
       "    'A0A0G2JNZ7',\n",
       "    'E7EXB0',\n",
       "    'H0YAH6',\n",
       "    'D6R9C4',\n",
       "    'H0Y9F4',\n",
       "    'E7EPH4',\n",
       "    'E7EQ23',\n",
       "    'E7EQ30',\n",
       "    'D6RGW5',\n",
       "    'D6RB82',\n",
       "    'D6RBU7',\n",
       "    'E7ES06',\n",
       "    'E7EN94',\n",
       "    'E7ENJ2',\n",
       "    'E7EUD5',\n",
       "    'E7ETX3',\n",
       "    'E7ERI6',\n",
       "    'E7EUP7']}},\n",
       " {'query': 'AK125780',\n",
       "  '_id': '118142757',\n",
       "  '_score': 21.254433,\n",
       "  'entrezgene': '118142757',\n",
       "  'uniprot': {'Swiss-Prot': 'P43080', 'TrEMBL': ['A0A7I2V6E2', 'B2R9P6']}}]"
      ]
     },
     "execution_count": 15,
     "metadata": {},
     "output_type": "execute_result"
    }
   ],
   "source": [
    "mg.querymany(\n",
    "    xli,\n",
    "    scopes=\"symbol,reporter,accession\",\n",
    "    fields=\"entrezgene,uniprot\",\n",
    "    species=\"human\",\n",
    ")"
   ]
  },
  {
   "cell_type": "markdown",
   "id": "5d9f5e28",
   "metadata": {},
   "source": [
    "### When a input id has multiple matching genes"
   ]
  },
  {
   "cell_type": "markdown",
   "id": "791bbd00",
   "metadata": {},
   "source": [
    "From the previous result, you may have noticed that query term \"1007_s_at\" matches two genes. In that case, you will be notified from the output, and the returned result will include both matching genes.\n",
    "\n",
    "By passing \"returnall=True\", you will get both duplicate or missing query terms, together with the mapping output, from the returned result:"
   ]
  },
  {
   "cell_type": "code",
   "execution_count": 16,
   "id": "1f4c632a",
   "metadata": {
    "collapsed": false,
    "execution": {
     "iopub.execute_input": "2021-09-11T23:17:24.600521Z",
     "iopub.status.busy": "2021-09-11T23:17:24.599878Z",
     "iopub.status.idle": "2021-09-11T23:17:25.748377Z",
     "shell.execute_reply": "2021-09-11T23:17:25.747969Z",
     "shell.execute_reply.started": "2021-09-11T23:17:24.600499Z"
    },
    "jupyter": {
     "outputs_hidden": false
    }
   },
   "outputs": [
    {
     "name": "stdout",
     "output_type": "stream",
     "text": [
      "querying 1-8...done.\n",
      "Finished.\n",
      "1 input query terms found dup hits:\n",
      "\t[('1007_s_at', 2)]\n",
      "2 input query terms found no hit:\n",
      "\t['DDX26B', 'Gm10494']\n"
     ]
    },
    {
     "data": {
      "text/plain": [
       "{'out': [{'query': 'DDX26B', 'notfound': True},\n",
       "  {'query': 'CCDC83',\n",
       "   '_id': '220047',\n",
       "   '_score': 89.82807,\n",
       "   'entrezgene': '220047',\n",
       "   'uniprot': {'Swiss-Prot': 'Q8IWF9', 'TrEMBL': 'H0YDV3'}},\n",
       "  {'query': 'MAST3',\n",
       "   '_id': '23031',\n",
       "   '_score': 90.07843,\n",
       "   'entrezgene': '23031',\n",
       "   'uniprot': {'Swiss-Prot': 'O60307', 'TrEMBL': 'V9GYV0'}},\n",
       "  {'query': 'FLOT1',\n",
       "   '_id': '10211',\n",
       "   '_score': 92.03061,\n",
       "   'entrezgene': '10211',\n",
       "   'uniprot': {'Swiss-Prot': 'O75955',\n",
       "    'TrEMBL': ['A2ABJ5',\n",
       "     'Q5ST80',\n",
       "     'A2AB09',\n",
       "     'A2AB12',\n",
       "     'A2AB13',\n",
       "     'A2AB10',\n",
       "     'A2AB11']}},\n",
       "  {'query': 'RPL11',\n",
       "   '_id': '6135',\n",
       "   '_score': 83.37638,\n",
       "   'entrezgene': '6135',\n",
       "   'uniprot': {'Swiss-Prot': 'P62913',\n",
       "    'TrEMBL': ['Q5VVC8', 'Q5VVD0', 'A0A2R8Y447']}},\n",
       "  {'query': 'Gm10494', 'notfound': True},\n",
       "  {'query': '1007_s_at',\n",
       "   '_id': '100616237',\n",
       "   '_score': 14.593787,\n",
       "   'entrezgene': '100616237'},\n",
       "  {'query': '1007_s_at',\n",
       "   '_id': '780',\n",
       "   '_score': 13.428796,\n",
       "   'entrezgene': '780',\n",
       "   'uniprot': {'Swiss-Prot': 'Q08345',\n",
       "    'TrEMBL': ['A0A024RCL1',\n",
       "     'A0A024RCJ0',\n",
       "     'A0A024RCQ1',\n",
       "     'A0A0A0MSX3',\n",
       "     'Q96T61',\n",
       "     'Q96T62',\n",
       "     'A2ABM8',\n",
       "     'A0A0G2JJA0',\n",
       "     'D6RAJ3',\n",
       "     'A2ABL0',\n",
       "     'A0A0G2JHK4',\n",
       "     'D6RB35',\n",
       "     'A0A0G2JIA2',\n",
       "     'A0A0G2JI85',\n",
       "     'E7ERN0',\n",
       "     'A2ABL2',\n",
       "     'E7EX99',\n",
       "     'A0A140T972',\n",
       "     'E7ETI3',\n",
       "     'E7ESR9',\n",
       "     'H0Y717',\n",
       "     'E7EPN2',\n",
       "     'E7EVT1',\n",
       "     'E7EVW6',\n",
       "     'A0A0G2JNZ7',\n",
       "     'E7EXB0',\n",
       "     'H0YAH6',\n",
       "     'D6R9C4',\n",
       "     'H0Y9F4',\n",
       "     'E7EPH4',\n",
       "     'E7EQ23',\n",
       "     'E7EQ30',\n",
       "     'D6RGW5',\n",
       "     'D6RB82',\n",
       "     'D6RBU7',\n",
       "     'E7ES06',\n",
       "     'E7EN94',\n",
       "     'E7ENJ2',\n",
       "     'E7EUD5',\n",
       "     'E7ETX3',\n",
       "     'E7ERI6',\n",
       "     'E7EUP7']}},\n",
       "  {'query': 'AK125780',\n",
       "   '_id': '118142757',\n",
       "   '_score': 21.163898,\n",
       "   'entrezgene': '118142757',\n",
       "   'uniprot': {'Swiss-Prot': 'P43080', 'TrEMBL': ['A0A7I2V6E2', 'B2R9P6']}}],\n",
       " 'dup': [('1007_s_at', 2)],\n",
       " 'missing': ['DDX26B', 'Gm10494']}"
      ]
     },
     "execution_count": 16,
     "metadata": {},
     "output_type": "execute_result"
    }
   ],
   "source": [
    "mg.querymany(\n",
    "    xli,\n",
    "    scopes=\"symbol,reporter,accession\",\n",
    "    fields=\"entrezgene,uniprot\",\n",
    "    species=\"human\",\n",
    "    returnall=True,\n",
    ")"
   ]
  },
  {
   "cell_type": "markdown",
   "id": "74250d3b",
   "metadata": {},
   "source": [
    "The returned result above contains \"**out**\" for mapping output, \"**missing**\" for missing query terms (a list), and \"**dup**\" for query terms with multiple matches (including the number of matches)."
   ]
  },
  {
   "cell_type": "markdown",
   "id": "b69d1ff5",
   "metadata": {},
   "source": [
    "### Can I convert a very large list of ids?"
   ]
  },
  {
   "cell_type": "markdown",
   "id": "8fc37fcd",
   "metadata": {},
   "source": [
    "Yes, you can. If you pass an id list (i.e., **xli** above) larger than 1000 ids, we will do the id mapping in-batch with 1000 ids at a time, and then concatenate the results all together for you. So, from the user-end, it's exactly the same as passing a shorter list. You don't need to worry about saturating our backend servers."
   ]
  },
  {
   "cell_type": "markdown",
   "id": "26a0f6fa",
   "metadata": {},
   "source": [
    "### To read more"
   ]
  },
  {
   "cell_type": "markdown",
   "id": "192a3f8b",
   "metadata": {},
   "source": [
    "* [MyGene.info](http://mygene.info)\n",
    "    * [Batch queries via POST](http://mygene.info/doc/query_service.html#batch-queries-via-post)\n",
    "        * [**scopes** parameter](http://mygene.info/doc/query_service.html#scopes)\n",
    "        * [**fields** parameter](http://mygene.info/doc/query_service.html#fields)\n",
    "        * [**species** parameter](http://mygene.info/doc/query_service.html#species)\n",
    "* [mygene module](https://crate.io/packages/mygene/)"
   ]
  }
 ],
 "metadata": {
  "kernelspec": {
   "display_name": "Python [conda env:plotting]",
   "language": "python",
   "name": "conda-env-plotting-py"
  },
  "language_info": {
   "codemirror_mode": {
    "name": "ipython",
    "version": 3
   },
   "file_extension": ".py",
   "mimetype": "text/x-python",
   "name": "python",
   "nbconvert_exporter": "python",
   "pygments_lexer": "ipython3",
   "version": "3.8.11"
  }
 },
 "nbformat": 4,
 "nbformat_minor": 5
}
