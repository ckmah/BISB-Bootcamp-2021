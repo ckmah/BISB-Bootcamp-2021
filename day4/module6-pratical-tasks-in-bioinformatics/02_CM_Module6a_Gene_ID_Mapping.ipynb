{
 "cells": [
  {
   "cell_type": "markdown",
   "id": "7dd71c27-c8dd-4843-a2df-6fdb8c322a04",
   "metadata": {},
   "source": [
    "# Gene ID mapping in Python with `MyGene`\n",
    "\n",
    "**Author**: Clarence Mah (ckmah@ucsd.edu\n",
    "\n",
    "Source material: https://docs.mygene.info/projects/mygene-py/en/latest/\n",
    "\n",
    "ID mapping is a very common, often not fun, task for every bioinformatician. Supposedly you have a list of gene symbols or reporter ids from an upstream analysis, and then your next analysis requires to use gene ids (e.g. Entrez gene ids or Ensembl gene ids). So you want to convert that list of gene symbols or reporter ids to corresponding gene ids.\n",
    "\n",
    "### Some relatable images...\n",
    "<html>\n",
    "    <img alt=\"gene excel meme\" src=\"img/gene_excel_meme.jpeg\" width=300>\n",
    "    <img src=\"img/genes-excel-theverge.png\", alt=\"Microsoft Excel renames genes, article from The Verge\" width=350 style=\"border: 1px solid black\">\n",
    "</html>\n",
    "\n",
    "Here we want to show you how to use **mygene** module in Python to do ID mapping quickly and easily. **mygene** is essentially a convenient Python module to access [MyGene.info](http://mygene.info) gene query web services.\n",
    "\n",
    "Fun fact: **MyGene** was developed here in San Diego from the labs of [Dr. Andrew Su](https://sulab.org) and [Dr. Chunlei Wu](https://wulab.io) at The Scripps Research Institute."
   ]
  },
  {
   "cell_type": "markdown",
   "id": "59df4d9c",
   "metadata": {},
   "source": [
    "## Import and instantiate MyGeneInfo class"
   ]
  },
  {
   "cell_type": "code",
   "execution_count": null,
   "id": "c0bcdbc6",
   "metadata": {
    "collapsed": false,
    "jupyter": {
     "outputs_hidden": false
    }
   },
   "outputs": [],
   "source": [
    "import mygene\n",
    "\n",
    "mg = mygene.MyGeneInfo()"
   ]
  },
  {
   "cell_type": "markdown",
   "id": "a0333e35",
   "metadata": {},
   "source": [
    "## Mapping gene symbols to Entrez gene ids"
   ]
  },
  {
   "cell_type": "markdown",
   "id": "cdcb73b7",
   "metadata": {},
   "source": [
    "Suppose **xli** is a list of gene symbols you want to convert to entrez gene ids:"
   ]
  },
  {
   "cell_type": "code",
   "execution_count": null,
   "id": "9c7b13c3",
   "metadata": {
    "collapsed": false,
    "jupyter": {
     "outputs_hidden": false
    },
    "tags": []
   },
   "outputs": [],
   "source": [
    "xli = [\n",
    "    \"CCDC83\",\n",
    "    \"MAST3\",\n",
    "    \"FLOT1\",\n",
    "    \"RPL11\",\n",
    "    \"ZDHHC20\",\n",
    "    \"LUC7L3\",\n",
    "    \"SNORD49A\",\n",
    "    \"CTSH\",\n",
    "    \"ACOT8\",\n",
    "]"
   ]
  },
  {
   "cell_type": "markdown",
   "id": "7b5e1e60",
   "metadata": {},
   "source": [
    "  you can then call **querymany** method, telling it your input is \"symbol\", and you want \"entrezgene\" (Entrez gene ids) back."
   ]
  },
  {
   "cell_type": "code",
   "execution_count": null,
   "id": "4b0417b5",
   "metadata": {
    "collapsed": false,
    "jupyter": {
     "outputs_hidden": false
    },
    "tags": []
   },
   "outputs": [],
   "source": [
    "out = mg.querymany(xli, scopes=\"symbol\", fields=\"entrezgene\", species=\"human\")"
   ]
  },
  {
   "cell_type": "markdown",
   "id": "ee70a90a",
   "metadata": {},
   "source": [
    "Returned \"**out**\" looks like this:"
   ]
  },
  {
   "cell_type": "code",
   "execution_count": null,
   "id": "d5e23853",
   "metadata": {
    "collapsed": false,
    "jupyter": {
     "outputs_hidden": false
    },
    "tags": []
   },
   "outputs": [],
   "source": [
    "out"
   ]
  },
  {
   "cell_type": "markdown",
   "id": "9f2270b4",
   "metadata": {},
   "source": [
    "The mapping result is returned as a list of dictionaries. Each dictionary contains the **fields** you asked to return, in this case, \"entrezgene\" field. Each dictionary also returns the matching query term, \"**query**\", and an internal id, \"**_id**\", which is the same as \"**entrezgene**\" most of time (will be an ensembl gene id if a gene is available from Ensembl only)."
   ]
  },
  {
   "cell_type": "markdown",
   "id": "a1663e1b-a74d-4228-b1d6-5b7f933ec9a2",
   "metadata": {},
   "source": [
    "From here we can easily parse **out** to create a mapping from gene symbol to entrez id. Done!"
   ]
  },
  {
   "cell_type": "code",
   "execution_count": null,
   "id": "a3da6ab3-91a3-4b47-8270-0e1eee2653a1",
   "metadata": {
    "tags": []
   },
   "outputs": [],
   "source": [
    "symbol_to_entrez = dict()\n",
    "for entry in out:\n",
    "    symbol_to_entrez[entry['query']] = entry['entrezgene']\n",
    "    \n",
    "symbol_to_entrez"
   ]
  },
  {
   "cell_type": "markdown",
   "id": "4a229445-d1a5-4f67-bb23-9de10bb88df4",
   "metadata": {},
   "source": [
    "---"
   ]
  },
  {
   "cell_type": "markdown",
   "id": "e1295344",
   "metadata": {},
   "source": [
    "## Mapping gene symbols to Ensembl gene ids"
   ]
  },
  {
   "cell_type": "markdown",
   "id": "7dad1f61",
   "metadata": {},
   "source": [
    "Now if you want Ensembl gene ids back:"
   ]
  },
  {
   "cell_type": "code",
   "execution_count": null,
   "id": "5ca9cc74",
   "metadata": {
    "collapsed": false,
    "jupyter": {
     "outputs_hidden": false
    },
    "tags": []
   },
   "outputs": [],
   "source": [
    "mg.querymany(xli, scopes=\"symbol\", fields=\"ensembl.gene\", species=\"human\")"
   ]
  },
  {
   "cell_type": "markdown",
   "id": "d543bf01",
   "metadata": {},
   "source": [
    "## When an input id has no matching gene"
   ]
  },
  {
   "cell_type": "markdown",
   "id": "c96eda3d",
   "metadata": {},
   "source": [
    "In case that an input id has no matching gene, you will be notified from the output.The returned dictionary for this query term contains \"notfound\" value as *True*."
   ]
  },
  {
   "cell_type": "code",
   "execution_count": null,
   "id": "28d64327",
   "metadata": {
    "collapsed": false,
    "jupyter": {
     "outputs_hidden": false
    },
    "tags": []
   },
   "outputs": [],
   "source": [
    "xli = [\"CCDC83\", \"MAST3\", \"FLOT1\", \"RPL11\", \"Gm10494\"]"
   ]
  },
  {
   "cell_type": "code",
   "execution_count": null,
   "id": "654d285d",
   "metadata": {
    "collapsed": false,
    "jupyter": {
     "outputs_hidden": false
    },
    "tags": []
   },
   "outputs": [],
   "source": [
    "mg.querymany(xli, scopes=\"symbol\", fields=\"entrezgene\", species=\"human\")"
   ]
  },
  {
   "cell_type": "markdown",
   "id": "f9556737",
   "metadata": {},
   "source": [
    "## When input ids are not just symbols"
   ]
  },
  {
   "cell_type": "code",
   "execution_count": null,
   "id": "75a89d31",
   "metadata": {
    "collapsed": false,
    "jupyter": {
     "outputs_hidden": false
    }
   },
   "outputs": [],
   "source": [
    "xli = [\n",
    "    \"DDX26B\",\n",
    "    \"CCDC83\",\n",
    "    \"MAST3\",\n",
    "    \"FLOT1\",\n",
    "    \"RPL11\",\n",
    "    \"Gm10494\",\n",
    "    \"1007_s_at\",\n",
    "    \"AK125780\",\n",
    "]"
   ]
  },
  {
   "cell_type": "markdown",
   "id": "18d1b84b",
   "metadata": {},
   "source": [
    "Above id list contains symbols, reporters and accession numbers, and supposedly we want to get back both Entrez gene ids and uniprot ids. Parameters **scopes**, **fields**, **species** are all flexible enough to support multiple values, either a list or a comma-separated string:"
   ]
  },
  {
   "cell_type": "code",
   "execution_count": null,
   "id": "b9505fa8",
   "metadata": {
    "collapsed": false,
    "jupyter": {
     "outputs_hidden": false
    }
   },
   "outputs": [],
   "source": [
    "mg.querymany(\n",
    "    xli,\n",
    "    scopes=\"symbol,reporter,accession\",\n",
    "    fields=\"entrezgene,uniprot\",\n",
    "    species=\"human\",\n",
    ")"
   ]
  },
  {
   "cell_type": "markdown",
   "id": "5d9f5e28",
   "metadata": {},
   "source": [
    "## When a input id has multiple matching genes"
   ]
  },
  {
   "cell_type": "markdown",
   "id": "791bbd00",
   "metadata": {},
   "source": [
    "From the previous result, you may have noticed that query term \"1007_s_at\" matches two genes. In that case, you will be notified from the output, and the returned result will include both matching genes.\n",
    "\n",
    "By passing \"returnall=True\", you will get both duplicate or missing query terms, together with the mapping output, from the returned result:"
   ]
  },
  {
   "cell_type": "code",
   "execution_count": null,
   "id": "1f4c632a",
   "metadata": {
    "collapsed": false,
    "jupyter": {
     "outputs_hidden": false
    },
    "tags": []
   },
   "outputs": [],
   "source": [
    "mg.querymany(\n",
    "    xli,\n",
    "    scopes=\"symbol,reporter,accession\",\n",
    "    fields=\"entrezgene,uniprot\",\n",
    "    species=\"human\",\n",
    "    returnall=True,\n",
    ")"
   ]
  },
  {
   "cell_type": "markdown",
   "id": "74250d3b",
   "metadata": {},
   "source": [
    "The returned result above contains \"**out**\" for mapping output, \"**missing**\" for missing query terms (a list), and \"**dup**\" for query terms with multiple matches (including the number of matches)."
   ]
  },
  {
   "cell_type": "markdown",
   "id": "b69d1ff5",
   "metadata": {},
   "source": [
    "## Can I convert a very large list of ids?"
   ]
  },
  {
   "cell_type": "markdown",
   "id": "8fc37fcd",
   "metadata": {},
   "source": [
    "Yes, you can. If you pass an id list (i.e., **xli** above) larger than 1000 ids, we will do the id mapping in-batch with 1000 ids at a time, and then concatenate the results all together for you. So, from the user-end, it's exactly the same as passing a shorter list. You don't need to worry about saturating our backend servers."
   ]
  },
  {
   "cell_type": "markdown",
   "id": "044ca398-dc8f-4bc8-9a5d-492cce635aeb",
   "metadata": {},
   "source": [
    "## To read more\n",
    "\n",
    "* [MyGene.info](http://mygene.info)\n",
    "    * [Batch queries via POST](http://mygene.info/doc/query_service.html#batch-queries-via-post)\n",
    "        * [**scopes** parameter](http://mygene.info/doc/query_service.html#scopes)\n",
    "        * [**fields** parameter](http://mygene.info/doc/query_service.html#fields)\n",
    "        * [**species** parameter](http://mygene.info/doc/query_service.html#species)\n",
    "* [mygene module](https://crate.io/packages/mygene/)"
   ]
  }
 ],
 "metadata": {
  "kernelspec": {
   "display_name": "Python [conda env:plotting]",
   "language": "python",
   "name": "conda-env-plotting-py"
  },
  "language_info": {
   "codemirror_mode": {
    "name": "ipython",
    "version": 3
   },
   "file_extension": ".py",
   "mimetype": "text/x-python",
   "name": "python",
   "nbconvert_exporter": "python",
   "pygments_lexer": "ipython3",
   "version": "3.8.11"
  }
 },
 "nbformat": 4,
 "nbformat_minor": 5
}
